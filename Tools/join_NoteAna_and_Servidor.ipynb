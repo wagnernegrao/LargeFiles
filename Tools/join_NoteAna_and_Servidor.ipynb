{
 "cells": [
  {
   "cell_type": "code",
   "execution_count": 1,
   "metadata": {},
   "outputs": [],
   "source": [
    "import pandas as pd\n",
    "import os\n",
    "import glob"
   ]
  },
  {
   "cell_type": "markdown",
   "metadata": {},
   "source": [
    "### Read file resultadoNoteAna"
   ]
  },
  {
   "cell_type": "code",
   "execution_count": 2,
   "metadata": {},
   "outputs": [],
   "source": [
    "mydir0 = os.getcwd()  # would be the MAIN folder\n",
    "mydir_tmp0 = mydir0 + \"/../Data/resultadoNoteAna\"  # add the data folder name\n",
    "mydir_new0 = os.chdir(mydir_tmp0)  # change the current working directory\n",
    "mydir0 = os.getcwd()  # set the main directory again, now it calls teaser datasets"
   ]
  },
  {
   "cell_type": "code",
   "execution_count": 4,
   "metadata": {},
   "outputs": [],
   "source": [
    "filename0 = str(mydir0) + \"/JoinresultadoNoteAna.csv\"\n",
    "dfx0 = pd.read_csv(filename0, sep=',')"
   ]
  },
  {
   "cell_type": "markdown",
   "metadata": {},
   "source": [
    "### Read file resultadoServidor"
   ]
  },
  {
   "cell_type": "code",
   "execution_count": 5,
   "metadata": {},
   "outputs": [],
   "source": [
    "mydir1 = os.getcwd()  # would be the MAIN folder\n",
    "mydir_tmp1 = mydir1 + \"/../resultadoServidor\"  # add the data folder name\n",
    "mydir_new0 = os.chdir(mydir_tmp1)  # change the current working directory\n",
    "mydir1 = os.getcwd()  # set the main directory again, now it calls teaser datasets"
   ]
  },
  {
   "cell_type": "code",
   "execution_count": 6,
   "metadata": {},
   "outputs": [],
   "source": [
    "filename1 = str(mydir1) + \"/JoinresultadoServidor.csv\"\n",
    "dfx1 = pd.read_csv(filename1, sep=',')"
   ]
  },
  {
   "cell_type": "markdown",
   "metadata": {},
   "source": [
    "### Concat dfx0 and dfx1"
   ]
  },
  {
   "cell_type": "code",
   "execution_count": 7,
   "metadata": {},
   "outputs": [],
   "source": [
    "dfx2 = pd.concat([dfx0, dfx1])"
   ]
  },
  {
   "cell_type": "markdown",
   "metadata": {},
   "source": [
    "### Write a new file"
   ]
  },
  {
   "cell_type": "code",
   "execution_count": 14,
   "metadata": {},
   "outputs": [],
   "source": [
    "dfx2.to_csv('largefiles.csv', index=False)"
   ]
  }
 ],
 "metadata": {
  "kernelspec": {
   "display_name": "Python 3",
   "language": "python",
   "name": "python3"
  },
  "language_info": {
   "codemirror_mode": {
    "name": "ipython",
    "version": 3
   },
   "file_extension": ".py",
   "mimetype": "text/x-python",
   "name": "python",
   "nbconvert_exporter": "python",
   "pygments_lexer": "ipython3",
   "version": "3.6.9"
  }
 },
 "nbformat": 4,
 "nbformat_minor": 2
}
