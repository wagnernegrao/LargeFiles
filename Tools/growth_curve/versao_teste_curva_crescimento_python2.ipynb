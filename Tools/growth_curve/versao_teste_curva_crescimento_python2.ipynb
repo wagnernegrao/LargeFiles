{
 "cells": [
  {
   "cell_type": "code",
   "execution_count": 1,
   "metadata": {},
   "outputs": [],
   "source": [
    "import pandas as pd\n",
    "import numpy as np\n",
    "import matplotlib.pyplot as plt\n",
    "\n",
    "from pyksc import ksc"
   ]
  },
  {
   "cell_type": "code",
   "execution_count": 2,
   "metadata": {},
   "outputs": [],
   "source": [
    "filename = '/home/wagner/GitHub/curva_crescimento/projetos_concatenados/projetos_concatenados/akka.csv'"
   ]
  },
  {
   "cell_type": "code",
   "execution_count": 3,
   "metadata": {},
   "outputs": [],
   "source": [
    "df = pd.read_csv(filename, usecols=['Commit', 'Date', 'Project', 'blank', 'code', 'comment', 'filename', 'language'])\n",
    "df['Date'] = df.Date.apply(lambda date: date.replace('.csv', ''))"
   ]
  },
  {
   "cell_type": "code",
   "execution_count": 4,
   "metadata": {},
   "outputs": [],
   "source": [
    "df['Date'] = pd.to_datetime(df['Date'])\n",
    "df = df.sort_values(by='Date')"
   ]
  },
  {
   "cell_type": "code",
   "execution_count": null,
   "metadata": {},
   "outputs": [],
   "source": []
  },
  {
   "cell_type": "code",
   "execution_count": 5,
   "metadata": {},
   "outputs": [],
   "source": [
    "def file_unique(dfx):\n",
    "    '''\n",
    "        Cria uma lista com esses arquivos e remove os arquivos repetidos\n",
    "    '''\n",
    "    \n",
    "    files_list = dfx.filename.tolist()\n",
    "\n",
    "    files = []\n",
    "\n",
    "    for i in files_list:\n",
    "        if(i not in files):\n",
    "            files.append(i)\n",
    "    \n",
    "    return(files)"
   ]
  },
  {
   "cell_type": "code",
   "execution_count": 6,
   "metadata": {},
   "outputs": [],
   "source": [
    "# Filtra o dataframe para apenas arquivos acima do limiar\n",
    "dfx = df.loc[df['code'] >= 13196]\n",
    "\n",
    "\n",
    "unique_files = file_unique(dfx)"
   ]
  },
  {
   "cell_type": "code",
   "execution_count": null,
   "metadata": {},
   "outputs": [],
   "source": []
  },
  {
   "cell_type": "code",
   "execution_count": 7,
   "metadata": {},
   "outputs": [
    {
     "data": {
      "text/plain": [
       "'/home/wagnernegrao/projetos_large_files/akka/akka-protobuf/src/main/java/akka/protobuf/DescriptorProtos.java'"
      ]
     },
     "execution_count": 7,
     "metadata": {},
     "output_type": "execute_result"
    }
   ],
   "source": [
    "unique_files[0]"
   ]
  },
  {
   "cell_type": "code",
   "execution_count": 8,
   "metadata": {},
   "outputs": [],
   "source": [
    "def create_dataframe(df, unique_files):\n",
    "    '''\n",
    "    ??? e cria um dataframe especifico com os arquivos\n",
    "    que estao acima do limiar, pegando a partir do primeiro commit\n",
    "    ate o mais atual de cada arquivo.\n",
    "    \n",
    "    Retorno:\n",
    "        Uma lista com varios dataframes\n",
    "    '''\n",
    "    \n",
    "    dfs = []\n",
    "    \n",
    "    for path in unique_files:\n",
    "         dfs.append(df.loc[df['filename'] == path])\n",
    "    \n",
    "    return(dfs)"
   ]
  },
  {
   "cell_type": "code",
   "execution_count": 10,
   "metadata": {},
   "outputs": [],
   "source": [
    "df['code'] = df.code.apply(lambda code: float(code)) # Torna float a coluna code"
   ]
  },
  {
   "cell_type": "code",
   "execution_count": 9,
   "metadata": {},
   "outputs": [],
   "source": [
    "dfs = create_dataframe(df, unique_files)"
   ]
  },
  {
   "cell_type": "code",
   "execution_count": 10,
   "metadata": {},
   "outputs": [
    {
     "data": {
      "text/plain": [
       "\"\\nd = {'Date': frame.Date.tolist(), 'Code': frame.code.tolist()}\\nd['Code'].insert(0,0)\\nd['Date'].insert(0,d['Date'][0])\\n\\ndfx2 = pd.DataFrame(data=d)\\n\\ndfx2['Code'] = dfx2.Code.apply(lambda code: float(code))\\n\""
      ]
     },
     "execution_count": 10,
     "metadata": {},
     "output_type": "execute_result"
    }
   ],
   "source": [
    "\"\"\"\n",
    "d = {'Date': frame.Date.tolist(), 'Code': frame.code.tolist()}\n",
    "d['Code'].insert(0,0)\n",
    "d['Date'].insert(0,d['Date'][0])\n",
    "\n",
    "dfx2 = pd.DataFrame(data=d)\n",
    "\n",
    "dfx2['Code'] = dfx2.Code.apply(lambda code: float(code))\n",
    "\"\"\""
   ]
  },
  {
   "cell_type": "code",
   "execution_count": null,
   "metadata": {},
   "outputs": [],
   "source": []
  },
  {
   "cell_type": "code",
   "execution_count": null,
   "metadata": {},
   "outputs": [],
   "source": []
  },
  {
   "cell_type": "code",
   "execution_count": 11,
   "metadata": {},
   "outputs": [],
   "source": [
    "def create_series(dfs):\n",
    "    '''\n",
    "    Recebe uma lista de dataframe e percorre cada dataframe na lista\n",
    "    e adiciona os codigos e os anos em uma lista.\n",
    "    \n",
    "    Retorno:\n",
    "        Duas listas, sendo uma com o loc de cada arquivo\n",
    "        e outra com o ano de cada arquivo\n",
    "    '''\n",
    "    \n",
    "    time_series = [] \n",
    "    years = [] \n",
    "    \n",
    "    for df in dfs:\n",
    "        time_series.append(df.code.tolist())\n",
    "        years.append(df.Date.dt.year.tolist())\n",
    "        \n",
    "    return(time_series, years)\n",
    "\n",
    "\n",
    "tm_series, years = create_series(dfs)"
   ]
  },
  {
   "cell_type": "code",
   "execution_count": null,
   "metadata": {},
   "outputs": [],
   "source": []
  },
  {
   "cell_type": "code",
   "execution_count": null,
   "metadata": {},
   "outputs": [],
   "source": []
  },
  {
   "cell_type": "code",
   "execution_count": null,
   "metadata": {},
   "outputs": [],
   "source": []
  },
  {
   "cell_type": "code",
   "execution_count": 12,
   "metadata": {},
   "outputs": [
    {
     "name": "stdout",
     "output_type": "stream",
     "text": [
      "25\n",
      "25\n",
      "25\n",
      "25\n",
      "25\n"
     ]
    }
   ],
   "source": [
    "# Usado para deixar as listas com o mesmo tamanho \n",
    "\n",
    "def size_series(tm_serie):\n",
    "    \n",
    "    serie_size = []\n",
    "\n",
    "    for serie in tm_serie:\n",
    "        serie_size.append(len(serie))\n",
    "\n",
    "    min_value = min(serie_size)\n",
    "    \n",
    "    flag = False\n",
    "\n",
    "    while(flag != True):\n",
    "        for serie in tm_series:\n",
    "            #print('Serie: ', len(serie))\n",
    "            for i in range(len(serie)):\n",
    "                if(i >= 25):\n",
    "                    #print('=> ', i)\n",
    "                    serie.pop(i)\n",
    "                    break\n",
    "        for serie in tm_series:\n",
    "            if(len(serie) == 25):\n",
    "                flag = True\n",
    "            else:\n",
    "                flag = False\n",
    "\n",
    "    for i in tm_series:\n",
    "        print(len(i))\n",
    "        \n",
    "    # para todas séries iniciarem em zero, como sendo a criacao do arquivo\n",
    "    for serie in tm_series:\n",
    "        serie.insert(0,0)\n",
    "        \n",
    "    return(tm_serie)\n",
    "\n",
    "\n",
    "\n",
    "tm_serie = size_series(tm_series)"
   ]
  },
  {
   "cell_type": "code",
   "execution_count": null,
   "metadata": {},
   "outputs": [],
   "source": []
  },
  {
   "cell_type": "code",
   "execution_count": 13,
   "metadata": {},
   "outputs": [],
   "source": [
    "\"\"\"\n",
    "Logica para ter a quantidade de anos igual ao tamanho da lista\n",
    "\"\"\"\n",
    "\n",
    "data = [] \n",
    "\n",
    "for ano in years:\n",
    "    for i in ano:\n",
    "        if i not in data:\n",
    "            data.append(i)\n",
    "\n",
    "\n",
    "\n",
    "cont = 0 \n",
    "while(len(data) != 26):\n",
    "    \n",
    "    data.append(data[cont])\n",
    "    cont+=1\n",
    "\n",
    "data = sorted(data)"
   ]
  },
  {
   "cell_type": "code",
   "execution_count": 14,
   "metadata": {},
   "outputs": [],
   "source": [
    "test_list = []\n",
    "\n",
    "for serie in tm_serie:\n",
    "    for value in serie:\n",
    "        test_list.append(value)"
   ]
  },
  {
   "cell_type": "code",
   "execution_count": 22,
   "metadata": {},
   "outputs": [
    {
     "data": {
      "text/plain": [
       "(26, 26)"
      ]
     },
     "execution_count": 22,
     "metadata": {},
     "output_type": "execute_result"
    }
   ],
   "source": [
    "len(tm_serie[0]), len(data)"
   ]
  },
  {
   "cell_type": "code",
   "execution_count": 26,
   "metadata": {},
   "outputs": [
    {
     "data": {
      "text/plain": [
       "Text(0.05,0.95,'$y=0.000205824144755\\\\;x2013.0$\\n$R^2 = 0.101$')"
      ]
     },
     "execution_count": 26,
     "metadata": {},
     "output_type": "execute_result"
    },
    {
     "data": {
      "image/png": "[encoded data removed]",
      "text/plain": [
       "<Figure size 432x288 with 1 Axes>"
      ]
     },
     "metadata": {
      "needs_background": "light"
     },
     "output_type": "display_data"
    }
   ],
   "source": [
    "# As listas devem possuir o mesmo tamanho\n",
    "\n",
    "from sklearn.metrics import r2_score\n",
    "x = np.array(tm_serie[0])\n",
    "y = np.array(data)\n",
    "\n",
    "#plt.plot(x,y,\"+\", ms=10, mec=\"k\")\n",
    "z = np.polyfit(x, y, 1)\n",
    "y_hat = np.poly1d(z)(x)\n",
    "\n",
    "plt.plot(x, y_hat, \"r--\", lw=1)\n",
    "text = \"$y={}\\;x{}$\\n$R^2 = {}$\".format(z[0], z[1], round(r2_score(y,y_hat), 3))\n",
    "plt.gca().text(0.05, 0.95, text,transform=plt.gca().transAxes,\n",
    "     fontsize=14, verticalalignment='top')"
   ]
  },
  {
   "cell_type": "code",
   "execution_count": 26,
   "metadata": {},
   "outputs": [
    {
     "data": {
      "text/plain": [
       "[[0,\n",
       "  17685.0,\n",
       "  17685.0,\n",
       "  17685.0,\n",
       "  17685.0,\n",
       "  17685.0,\n",
       "  17685.0,\n",
       "  17685.0,\n",
       "  17685.0,\n",
       "  17685.0,\n",
       "  17685.0,\n",
       "  17685.0,\n",
       "  17685.0,\n",
       "  17685.0,\n",
       "  17685.0,\n",
       "  17685.0,\n",
       "  17685.0,\n",
       "  17685.0,\n",
       "  17685.0,\n",
       "  17685.0,\n",
       "  17685.0,\n",
       "  17685.0,\n",
       "  17685.0,\n",
       "  17685.0,\n",
       "  17685.0,\n",
       "  17685.0],\n",
       " [0,\n",
       "  11914.0,\n",
       "  11914.0,\n",
       "  11914.0,\n",
       "  11914.0,\n",
       "  11914.0,\n",
       "  11914.0,\n",
       "  11914.0,\n",
       "  11965.0,\n",
       "  12406.0,\n",
       "  15351.0,\n",
       "  15403.0,\n",
       "  15403.0,\n",
       "  15403.0,\n",
       "  15403.0,\n",
       "  15403.0,\n",
       "  15403.0,\n",
       "  15403.0,\n",
       "  15403.0,\n",
       "  15403.0,\n",
       "  15403.0,\n",
       "  15915.0,\n",
       "  15915.0,\n",
       "  15915.0,\n",
       "  19182.0,\n",
       "  19182.0],\n",
       " [0,\n",
       "  11211.0,\n",
       "  11211.0,\n",
       "  11211.0,\n",
       "  11211.0,\n",
       "  11211.0,\n",
       "  11211.0,\n",
       "  11211.0,\n",
       "  11211.0,\n",
       "  12208.0,\n",
       "  12276.0,\n",
       "  14612.0,\n",
       "  14612.0,\n",
       "  14612.0,\n",
       "  14612.0,\n",
       "  14612.0,\n",
       "  14612.0,\n",
       "  14612.0,\n",
       "  14869.0,\n",
       "  14869.0,\n",
       "  14869.0,\n",
       "  14869.0,\n",
       "  14869.0,\n",
       "  14869.0,\n",
       "  17496.0,\n",
       "  17496.0],\n",
       " [0,\n",
       "  12975.0,\n",
       "  12975.0,\n",
       "  12975.0,\n",
       "  12975.0,\n",
       "  12975.0,\n",
       "  12975.0,\n",
       "  12975.0,\n",
       "  12975.0,\n",
       "  12975.0,\n",
       "  12979.0,\n",
       "  12979.0,\n",
       "  12979.0,\n",
       "  12979.0,\n",
       "  12979.0,\n",
       "  12979.0,\n",
       "  13030.0,\n",
       "  9092.0,\n",
       "  9092.0,\n",
       "  10788.0,\n",
       "  10788.0,\n",
       "  10788.0,\n",
       "  11600.0,\n",
       "  11600.0,\n",
       "  14135.0,\n",
       "  14135.0],\n",
       " [0,\n",
       "  6828.0,\n",
       "  6828.0,\n",
       "  6836.0,\n",
       "  7467.0,\n",
       "  7467.0,\n",
       "  7467.0,\n",
       "  7467.0,\n",
       "  7467.0,\n",
       "  7467.0,\n",
       "  7467.0,\n",
       "  7467.0,\n",
       "  7467.0,\n",
       "  7467.0,\n",
       "  7467.0,\n",
       "  7467.0,\n",
       "  7467.0,\n",
       "  7467.0,\n",
       "  7467.0,\n",
       "  7467.0,\n",
       "  7467.0,\n",
       "  7689.0,\n",
       "  13098.0,\n",
       "  13098.0,\n",
       "  13098.0,\n",
       "  13098.0]]"
      ]
     },
     "execution_count": 26,
     "metadata": {},
     "output_type": "execute_result"
    }
   ],
   "source": [
    "x = data['fee']\n",
    "y = data['time']\n",
    "\n",
    "fee,time\n",
    "100,650\n",
    "90,700\n",
    "80,860\n",
    "70,800\n",
    "60,1000\n",
    "50,1200"
   ]
  },
  {
   "cell_type": "code",
   "execution_count": null,
   "metadata": {},
   "outputs": [],
   "source": []
  },
  {
   "cell_type": "code",
   "execution_count": 19,
   "metadata": {},
   "outputs": [],
   "source": [
    "tm_series = np.array(tm_series)\n",
    "\n",
    "clusters_by_time_series = {}\n",
    "\n",
    "centroids, assign, best_shift, cent_dists = ksc.ksc(tm_series, 3)\n"
   ]
  },
  {
   "cell_type": "code",
   "execution_count": 94,
   "metadata": {},
   "outputs": [],
   "source": [
    "if assign is not None:\n",
    "    for series, cluster in zip(tm_series, assign):\n",
    "        if cluster in clusters_by_time_series.keys():\n",
    "            clusters_by_time_series[cluster].append(series)\n",
    "        else:\n",
    "            clusters_by_time_series[cluster] = [series]"
   ]
  },
  {
   "cell_type": "code",
   "execution_count": 3,
   "metadata": {},
   "outputs": [
    {
     "data": {
      "text/plain": [
       "\"\\nweeks = None \\n\\nfor cluster in clusters_by_time_series.keys():\\n    figure = plt.figure()\\n\\n    for project_time_series in clusters_by_time_series[cluster]:\\n        if weeks is None:\\n            weeks = [-i for i in range(len(project_time_series) - 1, -1, -1)]\\n\\n        project_time_series = [0 if i == 0.1 else int(i) for i in project_time_series]\\n\\n        plt.plot(data, project_time_series, color='black')\\n        \\n        figure.savefig('curva_crescimento.png', bbox_inches='tight', format='png', dpi=1000)\\n\""
      ]
     },
     "execution_count": 3,
     "metadata": {},
     "output_type": "execute_result"
    }
   ],
   "source": [
    "'''\n",
    "weeks = None \n",
    "\n",
    "for cluster in clusters_by_time_series.keys():\n",
    "    figure = plt.figure()\n",
    "\n",
    "    for project_time_series in clusters_by_time_series[cluster]:\n",
    "        if weeks is None:\n",
    "            weeks = [-i for i in range(len(project_time_series) - 1, -1, -1)]\n",
    "\n",
    "        project_time_series = [0 if i == 0.1 else int(i) for i in project_time_series]\n",
    "\n",
    "        plt.plot(data, project_time_series, color='black')\n",
    "        \n",
    "        figure.savefig('curva_crescimento.png', bbox_inches='tight', format='png', dpi=1000)\n",
    "'''\n"
   ]
  },
  {
   "cell_type": "code",
   "execution_count": 2,
   "metadata": {},
   "outputs": [
    {
     "data": {
      "text/plain": [
       "'\\nfor cluster, centroid in zip(range(0, 3), centroids):\\n    growth_rate = centroid[0] + centroid[-1] * 100\\n    #report_file.write(str(cluster) + \\': \\' + str(centroid) + \\' (Growth:\\' + str(\"{0:.2f}\".format(growth_rate)) + \\')\\n\\')\\n\\n    if weeks is None:\\n        weeks = [-i for i in range(len(centroid) - 1, -1, -1)]\\n\\n    figure = plt.figure()\\n    plt.plot(data, centroid, color=\\'black\\')\\n'"
      ]
     },
     "execution_count": 2,
     "metadata": {},
     "output_type": "execute_result"
    }
   ],
   "source": [
    "'''\n",
    "for cluster, centroid in zip(range(0, 3), centroids):\n",
    "    growth_rate = centroid[0] + centroid[-1] * 100\n",
    "    #report_file.write(str(cluster) + ': ' + str(centroid) + ' (Growth:' + str(\"{0:.2f}\".format(growth_rate)) + ')\\n')\n",
    "\n",
    "    if weeks is None:\n",
    "        weeks = [-i for i in range(len(centroid) - 1, -1, -1)]\n",
    "\n",
    "    figure = plt.figure()\n",
    "    plt.plot(data, centroid, color='black')\n",
    "'''"
   ]
  },
  {
   "cell_type": "code",
   "execution_count": null,
   "metadata": {},
   "outputs": [],
   "source": [
    "x = [100,90,80,70,60,50]\n",
    "y = [650, 700, 860, 800, 1000, 1200]"
   ]
  },
  {
   "cell_type": "code",
   "execution_count": 25,
   "metadata": {},
   "outputs": [
    {
     "data": {
      "text/plain": [
       "Text(0.05,0.95,'$y=-10.2571428571\\\\;x1637.61904762$\\n$R^2 = 0.884817209222$')"
      ]
     },
     "execution_count": 25,
     "metadata": {},
     "output_type": "execute_result"
    },
    {
     "data": {
      "image/png": "[encoded data removed]",
      "text/plain": [
       "<Figure size 432x288 with 1 Axes>"
      ]
     },
     "metadata": {
      "needs_background": "light"
     },
     "output_type": "display_data"
    }
   ],
   "source": []
  },
  {
   "cell_type": "code",
   "execution_count": null,
   "metadata": {},
   "outputs": [],
   "source": []
  },
  {
   "cell_type": "code",
   "execution_count": null,
   "metadata": {},
   "outputs": [],
   "source": []
  }
 ],
 "metadata": {
  "kernelspec": {
   "display_name": "Python 2",
   "language": "python",
   "name": "python2"
  },
  "language_info": {
   "codemirror_mode": {
    "name": "ipython",
    "version": 2
   },
   "file_extension": ".py",
   "mimetype": "text/x-python",
   "name": "python",
   "nbconvert_exporter": "python",
   "pygments_lexer": "ipython2",
   "version": "2.7.17"
  }
 },
 "nbformat": 4,
 "nbformat_minor": 2
}
