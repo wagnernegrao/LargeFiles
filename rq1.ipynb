{
 "cells": [
  {
   "cell_type": "code",
   "execution_count": 1,
   "metadata": {},
   "outputs": [],
   "source": [
    "import os\n",
    "import pandas as pd\n",
    "import numpy as np\n",
    "import matplotlib.pyplot as plt"
   ]
  },
  {
   "cell_type": "code",
   "execution_count": 2,
   "metadata": {},
   "outputs": [],
   "source": [
    "mydir = os.getcwd()  # would be the MAIN folder\n",
    "mydir_tmp = mydir + \"/Data/LargeFiles/\"  # add the data folder name\n",
    "mydir_new = os.chdir(mydir_tmp)  # change the current working directory\n",
    "mydir = os.getcwd()  # set the main directory again, now it calls teaser datasets"
   ]
  },
  {
   "cell_type": "code",
   "execution_count": 3,
   "metadata": {},
   "outputs": [],
   "source": [
    "filename = str(mydir) + '/largefiles.csv'"
   ]
  },
  {
   "cell_type": "code",
   "execution_count": 4,
   "metadata": {},
   "outputs": [],
   "source": [
    "df = pd.read_csv(filename, sep=',', engine='c')"
   ]
  },
  {
   "cell_type": "code",
   "execution_count": 5,
   "metadata": {},
   "outputs": [],
   "source": [
    "df['Date'] = pd.to_datetime(df.Date)"
   ]
  },
  {
   "cell_type": "code",
   "execution_count": 6,
   "metadata": {},
   "outputs": [],
   "source": [
    "df = df.sort_values(['Date'])"
   ]
  },
  {
   "cell_type": "code",
   "execution_count": 7,
   "metadata": {},
   "outputs": [
    {
     "data": {
      "text/html": [
       "<div>\n",
       "<style scoped>\n",
       "    .dataframe tbody tr th:only-of-type {\n",
       "        vertical-align: middle;\n",
       "    }\n",
       "\n",
       "    .dataframe tbody tr th {\n",
       "        vertical-align: top;\n",
       "    }\n",
       "\n",
       "    .dataframe thead th {\n",
       "        text-align: right;\n",
       "    }\n",
       "</style>\n",
       "<table border=\"1\" class=\"dataframe\">\n",
       "  <thead>\n",
       "    <tr style=\"text-align: right;\">\n",
       "      <th></th>\n",
       "      <th>Hash</th>\n",
       "      <th>File_Name</th>\n",
       "      <th>Extension</th>\n",
       "      <th>ContributorName</th>\n",
       "      <th>ContributorEmail</th>\n",
       "      <th>CommitterName</th>\n",
       "      <th>Committeremail</th>\n",
       "      <th>Date</th>\n",
       "      <th>addLines</th>\n",
       "      <th>excLines</th>\n",
       "      <th>linesOfCode</th>\n",
       "      <th>Complexity</th>\n",
       "      <th>changeType</th>\n",
       "      <th>Project_Name</th>\n",
       "    </tr>\n",
       "  </thead>\n",
       "  <tbody>\n",
       "    <tr>\n",
       "      <th>3141299</th>\n",
       "      <td>a1ba5b6a649a371e9b632cb29cc0547dbe17cade</td>\n",
       "      <td>runner</td>\n",
       "      <td>rb</td>\n",
       "      <td>normal</td>\n",
       "      <td>normal@b2dd03c8-39d4-4d8f-98ff-823fe69b080e</td>\n",
       "      <td>normal</td>\n",
       "      <td>normal@b2dd03c8-39d4-4d8f-98ff-823fe69b080e</td>\n",
       "      <td>2018-06-26 23:44:00</td>\n",
       "      <td>8</td>\n",
       "      <td>3</td>\n",
       "      <td>497</td>\n",
       "      <td>26</td>\n",
       "      <td>MODIFY</td>\n",
       "      <td>ruby-2.5.1</td>\n",
       "    </tr>\n",
       "    <tr>\n",
       "      <th>2171541</th>\n",
       "      <td>f1e625f85385f820ea69b092fe1d5d241c4f4c41</td>\n",
       "      <td>CHANGELOG</td>\n",
       "      <td>md</td>\n",
       "      <td>bogdanvlviv</td>\n",
       "      <td>bogdanvlviv@gmail.com</td>\n",
       "      <td>bogdanvlviv</td>\n",
       "      <td>bogdanvlviv@gmail.com</td>\n",
       "      <td>2018-06-27 00:44:21</td>\n",
       "      <td>4</td>\n",
       "      <td>0</td>\n",
       "      <td>20</td>\n",
       "      <td>0</td>\n",
       "      <td>MODIFY</td>\n",
       "      <td>rails-5.2.0</td>\n",
       "    </tr>\n",
       "    <tr>\n",
       "      <th>141295</th>\n",
       "      <td>0538ad9115e0856c2f45fcff479a9af431b31f76</td>\n",
       "      <td>rnn_impl</td>\n",
       "      <td>h</td>\n",
       "      <td>Hao Li</td>\n",
       "      <td>hao.h.li@intel.com</td>\n",
       "      <td>Eric Junyuan Xie</td>\n",
       "      <td>piiswrong@users.noreply.github.com</td>\n",
       "      <td>2018-06-27 01:43:57</td>\n",
       "      <td>933</td>\n",
       "      <td>14</td>\n",
       "      <td>2095</td>\n",
       "      <td>372</td>\n",
       "      <td>MODIFY</td>\n",
       "      <td>incubator-mxnet-1.2.0.rc1</td>\n",
       "    </tr>\n",
       "    <tr>\n",
       "      <th>141296</th>\n",
       "      <td>0538ad9115e0856c2f45fcff479a9af431b31f76</td>\n",
       "      <td>test_operator</td>\n",
       "      <td>py</td>\n",
       "      <td>Hao Li</td>\n",
       "      <td>hao.h.li@intel.com</td>\n",
       "      <td>Eric Junyuan Xie</td>\n",
       "      <td>piiswrong@users.noreply.github.com</td>\n",
       "      <td>2018-06-27 01:43:57</td>\n",
       "      <td>108</td>\n",
       "      <td>8</td>\n",
       "      <td>5242</td>\n",
       "      <td>849</td>\n",
       "      <td>MODIFY</td>\n",
       "      <td>incubator-mxnet-1.2.0.rc1</td>\n",
       "    </tr>\n",
       "    <tr>\n",
       "      <th>2171542</th>\n",
       "      <td>a0a1abb3c7942084111d87ae95837a83bcc794f6</td>\n",
       "      <td>CHANGELOG</td>\n",
       "      <td>md</td>\n",
       "      <td>Prem Sichanugrist</td>\n",
       "      <td>s@sikac.hu</td>\n",
       "      <td>GitHub</td>\n",
       "      <td>noreply@github.com</td>\n",
       "      <td>2018-06-27 10:07:56</td>\n",
       "      <td>4</td>\n",
       "      <td>0</td>\n",
       "      <td>20</td>\n",
       "      <td>0</td>\n",
       "      <td>MODIFY</td>\n",
       "      <td>rails-5.2.0</td>\n",
       "    </tr>\n",
       "  </tbody>\n",
       "</table>\n",
       "</div>"
      ],
      "text/plain": [
       "                                             Hash      File_Name Extension  \\\n",
       "3141299  a1ba5b6a649a371e9b632cb29cc0547dbe17cade         runner        rb   \n",
       "2171541  f1e625f85385f820ea69b092fe1d5d241c4f4c41      CHANGELOG        md   \n",
       "141295   0538ad9115e0856c2f45fcff479a9af431b31f76       rnn_impl         h   \n",
       "141296   0538ad9115e0856c2f45fcff479a9af431b31f76  test_operator        py   \n",
       "2171542  a0a1abb3c7942084111d87ae95837a83bcc794f6      CHANGELOG        md   \n",
       "\n",
       "           ContributorName                             ContributorEmail  \\\n",
       "3141299             normal  normal@b2dd03c8-39d4-4d8f-98ff-823fe69b080e   \n",
       "2171541        bogdanvlviv                        bogdanvlviv@gmail.com   \n",
       "141295              Hao Li                           hao.h.li@intel.com   \n",
       "141296              Hao Li                           hao.h.li@intel.com   \n",
       "2171542  Prem Sichanugrist                                   s@sikac.hu   \n",
       "\n",
       "            CommitterName                               Committeremail  \\\n",
       "3141299            normal  normal@b2dd03c8-39d4-4d8f-98ff-823fe69b080e   \n",
       "2171541       bogdanvlviv                        bogdanvlviv@gmail.com   \n",
       "141295   Eric Junyuan Xie           piiswrong@users.noreply.github.com   \n",
       "141296   Eric Junyuan Xie           piiswrong@users.noreply.github.com   \n",
       "2171542            GitHub                           noreply@github.com   \n",
       "\n",
       "                       Date  addLines  excLines  linesOfCode  Complexity  \\\n",
       "3141299 2018-06-26 23:44:00         8         3          497          26   \n",
       "2171541 2018-06-27 00:44:21         4         0           20           0   \n",
       "141295  2018-06-27 01:43:57       933        14         2095         372   \n",
       "141296  2018-06-27 01:43:57       108         8         5242         849   \n",
       "2171542 2018-06-27 10:07:56         4         0           20           0   \n",
       "\n",
       "        changeType               Project_Name  \n",
       "3141299     MODIFY                 ruby-2.5.1  \n",
       "2171541     MODIFY                rails-5.2.0  \n",
       "141295      MODIFY  incubator-mxnet-1.2.0.rc1  \n",
       "141296      MODIFY  incubator-mxnet-1.2.0.rc1  \n",
       "2171542     MODIFY                rails-5.2.0  "
      ]
     },
     "execution_count": 7,
     "metadata": {},
     "output_type": "execute_result"
    }
   ],
   "source": [
    "df.tail()"
   ]
  },
  {
   "cell_type": "markdown",
   "metadata": {},
   "source": [
    "## Rq1"
   ]
  },
  {
   "cell_type": "markdown",
   "metadata": {},
   "source": [
    "### Ocorrencia de linguagens"
   ]
  },
  {
   "cell_type": "code",
   "execution_count": 12,
   "metadata": {},
   "outputs": [],
   "source": [
    "list_language = ['c',  \n",
    "                 'c++',\n",
    "                 'cs',\n",
    "                 'clj',\n",
    "                 'coffee',\n",
    "                 'erl',\n",
    "                 'go', \n",
    "                 'hs',\n",
    "                 'java',\n",
    "                 'js',\n",
    "                 'kt',\n",
    "                 'lua',\n",
    "                 'm',\n",
    "                 'php',\n",
    "                 'py',\n",
    "                 'rb', \n",
    "                 'rs',\n",
    "                 'scala', \n",
    "                 'swift', \n",
    "                 'ts']"
   ]
  },
  {
   "cell_type": "code",
   "execution_count": 13,
   "metadata": {},
   "outputs": [],
   "source": [
    "list_size = []\n",
    "for language in list_language:\n",
    "    aux = len(df.loc[df['Extension'] == language])\n",
    "    list_size.append(aux)"
   ]
  },
  {
   "cell_type": "code",
   "execution_count": 14,
   "metadata": {},
   "outputs": [
    {
     "data": {
      "text/plain": [
       "[291791,\n",
       " 0,\n",
       " 148891,\n",
       " 849,\n",
       " 16225,\n",
       " 0,\n",
       " 196229,\n",
       " 25563,\n",
       " 15359,\n",
       " 128034,\n",
       " 1821,\n",
       " 3750,\n",
       " 3201,\n",
       " 52367,\n",
       " 180937,\n",
       " 74435,\n",
       " 303040,\n",
       " 35676,\n",
       " 14307,\n",
       " 45078]"
      ]
     },
     "execution_count": 14,
     "metadata": {},
     "output_type": "execute_result"
    }
   ],
   "source": [
    "list_size"
   ]
  },
  {
   "cell_type": "code",
   "execution_count": 15,
   "metadata": {},
   "outputs": [
    {
     "data": {
      "image/png": "[encoded data removed]",
      "text/plain": [
       "<Figure size 432x288 with 1 Axes>"
      ]
     },
     "metadata": {
      "needs_background": "light"
     },
     "output_type": "display_data"
    }
   ],
   "source": [
    "label = list_language\n",
    "values = list_size\n",
    "index = np.arange(len(label))\n",
    "\n",
    "plt.bar(index, values)\n",
    "plt.xlabel('Pau nelas', fontsize=10)\n",
    "plt.ylabel('ppk neles', fontsize=10)\n",
    "plt.xticks(index, label, fontsize=10, rotation=30)\n",
    "plt.title('Mc gorila')\n",
    "plt.show()"
   ]
  },
  {
   "cell_type": "code",
   "execution_count": 16,
   "metadata": {},
   "outputs": [],
   "source": [
    "dfz = df.Extension.unique().tolist()"
   ]
  },
  {
   "cell_type": "code",
   "execution_count": 23,
   "metadata": {},
   "outputs": [],
   "source": [
    "dfz = pd.Series(dfz)"
   ]
  },
  {
   "cell_type": "code",
   "execution_count": 24,
   "metadata": {},
   "outputs": [
    {
     "name": "stderr",
     "output_type": "stream",
     "text": [
      "/home/wagner/Virtualizations/labes/lib/python3.6/site-packages/ipykernel_launcher.py:1: FutureWarning: The signature of `Series.to_csv` was aligned to that of `DataFrame.to_csv`, and argument 'header' will change its default value from False to True: please pass an explicit value to suppress this warning.\n",
      "  \"\"\"Entry point for launching an IPython kernel.\n"
     ]
    }
   ],
   "source": [
    "dfz.to_csv('list_language.csv', index=False)"
   ]
  },
  {
   "cell_type": "code",
   "execution_count": null,
   "metadata": {},
   "outputs": [],
   "source": []
  }
 ],
 "metadata": {
  "kernelspec": {
   "display_name": "Python 3",
   "language": "python",
   "name": "python3"
  },
  "language_info": {
   "codemirror_mode": {
    "name": "ipython",
    "version": 3
   },
   "file_extension": ".py",
   "mimetype": "text/x-python",
   "name": "python",
   "nbconvert_exporter": "python",
   "pygments_lexer": "ipython3",
   "version": "3.6.9"
  }
 },
 "nbformat": 4,
 "nbformat_minor": 2
}
