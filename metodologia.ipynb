{
  "nbformat": 4,
  "nbformat_minor": 0,
  "metadata": {
    "colab": {
      "name": "metodologia.ipynb",
      "provenance": [],
      "include_colab_link": true
    },
    "kernelspec": {
      "name": "python3",
      "display_name": "Python 3"
    }
  },
  "cells": [
    {
      "cell_type": "markdown",
      "metadata": {
        "id": "view-in-github",
        "colab_type": "text"
      },
      "source": [
        "<a href=\"https://colab.research.google.com/github/wagnernegrao/LargeFiles/blob/master/metodologia.ipynb\" target=\"_parent\"><img src=\"https://colab.research.google.com/assets/colab-badge.svg\" alt=\"Open In Colab\"/></a>"
      ]
    },
    {
      "cell_type": "code",
      "metadata": {
        "id": "NUlKY_4UzCvX",
        "colab_type": "code",
        "outputId": "3d4a7391-0fcc-475b-c946-4531ff7c5f03",
        "colab": {
          "base_uri": "https://localhost:8080/",
          "height": 54
        }
      },
      "source": [
        "'''\n",
        "# Code to read csv file into Colaboratory:\n",
        "!pip install -U -q PyDrive\n",
        "from pydrive.auth import GoogleAuth\n",
        "from pydrive.drive import GoogleDrive\n",
        "from google.colab import auth\n",
        "from oauth2client.client import GoogleCredentials\n",
        "\n",
        "# Authenticate and create the PyDrive client.\n",
        "auth.authenticate_user()\n",
        "gauth = GoogleAuth()\n",
        "gauth.credentials = GoogleCredentials.get_application_default()\n",
        "drive = GoogleDrive(gauth)\n",
        "'''"
      ],
      "execution_count": 0,
      "outputs": [
        {
          "output_type": "execute_result",
          "data": {
            "text/plain": [
              "'\\n# Code to read csv file into Colaboratory:\\n!pip install -U -q PyDrive\\nfrom pydrive.auth import GoogleAuth\\nfrom pydrive.drive import GoogleDrive\\nfrom google.colab import auth\\nfrom oauth2client.client import GoogleCredentials\\n\\n# Authenticate and create the PyDrive client.\\nauth.authenticate_user()\\ngauth = GoogleAuth()\\ngauth.credentials = GoogleCredentials.get_application_default()\\ndrive = GoogleDrive(gauth)\\n'"
            ]
          },
          "metadata": {
            "tags": []
          },
          "execution_count": 10
        }
      ]
    },
    {
      "cell_type": "code",
      "metadata": {
        "id": "UdtpgoZIziBE",
        "colab_type": "code",
        "colab": {}
      },
      "source": [
        "import os\n",
        "import pandas as pd\n",
        "import numpy as np\n",
        "import matplotlib.pyplot as plt"
      ],
      "execution_count": 0,
      "outputs": []
    },
    {
      "cell_type": "code",
      "metadata": {
        "id": "-RvA8ziiyf8d",
        "colab_type": "code",
        "colab": {}
      },
      "source": [
        "url = 'https://drive.google.com/open?id=1LC05sKlW2AIUxm-v33c_UebF9t_V14pF'\n",
        "fluff, id = url.split('=')\n",
        "\n",
        "downloaded = drive.CreateFile({'id':id}) \n",
        "downloaded.GetContentFile('Filename.csv')  \n"
      ],
      "execution_count": 0,
      "outputs": []
    },
    {
      "cell_type": "code",
      "metadata": {
        "id": "y7GspNPiyl7y",
        "colab_type": "code",
        "colab": {}
      },
      "source": [
        "df = pd.read_csv('Filename.csv')\n",
        "\n",
        "df['Date'] = pd.to_datetime(df.Date)\n",
        "df = df.sort_values(['Date'])"
      ],
      "execution_count": 0,
      "outputs": []
    },
    {
      "cell_type": "markdown",
      "metadata": {
        "id": "7J0yJMW62VkW",
        "colab_type": "text"
      },
      "source": [
        "## Head dataset overview\n"
      ]
    },
    {
      "cell_type": "code",
      "metadata": {
        "id": "kcTZGWdH2NFh",
        "colab_type": "code",
        "outputId": "20d7cc55-5c19-4585-c0ef-5404d8fda9bd",
        "colab": {
          "base_uri": "https://localhost:8080/",
          "height": 394
        }
      },
      "source": [
        "df.head(5)"
      ],
      "execution_count": 0,
      "outputs": [
        {
          "output_type": "execute_result",
          "data": {
            "text/html": [
              "<div>\n",
              "<style scoped>\n",
              "    .dataframe tbody tr th:only-of-type {\n",
              "        vertical-align: middle;\n",
              "    }\n",
              "\n",
              "    .dataframe tbody tr th {\n",
              "        vertical-align: top;\n",
              "    }\n",
              "\n",
              "    .dataframe thead th {\n",
              "        text-align: right;\n",
              "    }\n",
              "</style>\n",
              "<table border=\"1\" class=\"dataframe\">\n",
              "  <thead>\n",
              "    <tr style=\"text-align: right;\">\n",
              "      <th></th>\n",
              "      <th>Hash</th>\n",
              "      <th>File_Name</th>\n",
              "      <th>Extension</th>\n",
              "      <th>ContributorName</th>\n",
              "      <th>ContributorEmail</th>\n",
              "      <th>CommitterName</th>\n",
              "      <th>Committeremail</th>\n",
              "      <th>Date</th>\n",
              "      <th>addLines</th>\n",
              "      <th>excLines</th>\n",
              "      <th>linesOfCode</th>\n",
              "      <th>Complexity</th>\n",
              "      <th>changeType</th>\n",
              "      <th>Project_Name</th>\n",
              "    </tr>\n",
              "  </thead>\n",
              "  <tbody>\n",
              "    <tr>\n",
              "      <th>13774</th>\n",
              "      <td>7f777ed95a19224294949e1b4ce56bbffcb1fe9f</td>\n",
              "      <td>Makefile</td>\n",
              "      <td>bpo-33873</td>\n",
              "      <td>Guido van Rossum</td>\n",
              "      <td>guido@python.org</td>\n",
              "      <td>Guido van Rossum</td>\n",
              "      <td>guido@python.org</td>\n",
              "      <td>1990-08-09 14:25:15</td>\n",
              "      <td>29</td>\n",
              "      <td>0</td>\n",
              "      <td>19</td>\n",
              "      <td>0</td>\n",
              "      <td>ADD</td>\n",
              "      <td>cpython-3.6.5</td>\n",
              "    </tr>\n",
              "    <tr>\n",
              "      <th>13775</th>\n",
              "      <td>7f777ed95a19224294949e1b4ce56bbffcb1fe9f</td>\n",
              "      <td>README</td>\n",
              "      <td>bpo-33873</td>\n",
              "      <td>Guido van Rossum</td>\n",
              "      <td>guido@python.org</td>\n",
              "      <td>Guido van Rossum</td>\n",
              "      <td>guido@python.org</td>\n",
              "      <td>1990-08-09 14:25:15</td>\n",
              "      <td>25</td>\n",
              "      <td>0</td>\n",
              "      <td>19</td>\n",
              "      <td>0</td>\n",
              "      <td>ADD</td>\n",
              "      <td>cpython-3.6.5</td>\n",
              "    </tr>\n",
              "    <tr>\n",
              "      <th>13776</th>\n",
              "      <td>b829a0935bbd3dea4898bf68b6be69b59bffcbec</td>\n",
              "      <td>Makefile</td>\n",
              "      <td>bpo-33873</td>\n",
              "      <td>Guido van Rossum</td>\n",
              "      <td>guido@python.org</td>\n",
              "      <td>Guido van Rossum</td>\n",
              "      <td>guido@python.org</td>\n",
              "      <td>1990-09-18 10:47:40</td>\n",
              "      <td>9</td>\n",
              "      <td>7</td>\n",
              "      <td>21</td>\n",
              "      <td>0</td>\n",
              "      <td>MODIFY</td>\n",
              "      <td>cpython-3.6.5</td>\n",
              "    </tr>\n",
              "    <tr>\n",
              "      <th>13777</th>\n",
              "      <td>eeaccbf068bf446a310e07fee988578d0b641ae9</td>\n",
              "      <td>Makefile</td>\n",
              "      <td>bpo-33873</td>\n",
              "      <td>Guido van Rossum</td>\n",
              "      <td>guido@python.org</td>\n",
              "      <td>Guido van Rossum</td>\n",
              "      <td>guido@python.org</td>\n",
              "      <td>1990-10-07 12:35:21</td>\n",
              "      <td>11</td>\n",
              "      <td>2</td>\n",
              "      <td>27</td>\n",
              "      <td>0</td>\n",
              "      <td>MODIFY</td>\n",
              "      <td>cpython-3.6.5</td>\n",
              "    </tr>\n",
              "    <tr>\n",
              "      <th>13778</th>\n",
              "      <td>df79a1ee192231a75a381798bb35cefaf6c31a2a</td>\n",
              "      <td>README</td>\n",
              "      <td>bpo-33873</td>\n",
              "      <td>Guido van Rossum</td>\n",
              "      <td>guido@python.org</td>\n",
              "      <td>Guido van Rossum</td>\n",
              "      <td>guido@python.org</td>\n",
              "      <td>1990-10-07 12:35:53</td>\n",
              "      <td>8</td>\n",
              "      <td>5</td>\n",
              "      <td>20</td>\n",
              "      <td>0</td>\n",
              "      <td>MODIFY</td>\n",
              "      <td>cpython-3.6.5</td>\n",
              "    </tr>\n",
              "  </tbody>\n",
              "</table>\n",
              "</div>"
            ],
            "text/plain": [
              "                                           Hash  ...   Project_Name\n",
              "13774  7f777ed95a19224294949e1b4ce56bbffcb1fe9f  ...  cpython-3.6.5\n",
              "13775  7f777ed95a19224294949e1b4ce56bbffcb1fe9f  ...  cpython-3.6.5\n",
              "13776  b829a0935bbd3dea4898bf68b6be69b59bffcbec  ...  cpython-3.6.5\n",
              "13777  eeaccbf068bf446a310e07fee988578d0b641ae9  ...  cpython-3.6.5\n",
              "13778  df79a1ee192231a75a381798bb35cefaf6c31a2a  ...  cpython-3.6.5\n",
              "\n",
              "[5 rows x 14 columns]"
            ]
          },
          "metadata": {
            "tags": []
          },
          "execution_count": 14
        }
      ]
    },
    {
      "cell_type": "markdown",
      "metadata": {
        "id": "N77_yARQ2s3E",
        "colab_type": "text"
      },
      "source": [
        "## Quantidade de Projetos"
      ]
    },
    {
      "cell_type": "code",
      "metadata": {
        "id": "txhVcucu2TXx",
        "colab_type": "code",
        "outputId": "8e2170c8-7c06-4d71-fc4f-56e5c8fea5dd",
        "colab": {
          "base_uri": "https://localhost:8080/",
          "height": 34
        }
      },
      "source": [
        "len(df.Project_Name.unique())"
      ],
      "execution_count": 0,
      "outputs": [
        {
          "output_type": "execute_result",
          "data": {
            "text/plain": [
              "216"
            ]
          },
          "metadata": {
            "tags": []
          },
          "execution_count": 15
        }
      ]
    },
    {
      "cell_type": "markdown",
      "metadata": {
        "id": "uQit99lU21FE",
        "colab_type": "text"
      },
      "source": [
        "## Quantidade de tipos de Arquivo"
      ]
    },
    {
      "cell_type": "code",
      "metadata": {
        "id": "xHC8Vq9S2PD5",
        "colab_type": "code",
        "outputId": "f2d08ad3-5fe8-45f7-bd18-350497d9f51b",
        "colab": {
          "base_uri": "https://localhost:8080/"
        }
      },
      "source": [
        "len(df.Extension.unique())"
      ],
      "execution_count": 0,
      "outputs": [
        {
          "output_type": "execute_result",
          "data": {
            "text/plain": [
              "3119"
            ]
          },
          "metadata": {
            "tags": []
          },
          "execution_count": 16
        }
      ]
    },
    {
      "cell_type": "markdown",
      "metadata": {
        "id": "LE5nc7Iq3YpM",
        "colab_type": "text"
      },
      "source": [
        "## Media de anos de desenvolvimento dos projetos"
      ]
    },
    {
      "cell_type": "code",
      "metadata": {
        "id": "_43_c1s72z8K",
        "colab_type": "code",
        "colab": {}
      },
      "source": [
        "list_project_name = df.Project_Name.unique().tolist()"
      ],
      "execution_count": 0,
      "outputs": []
    },
    {
      "cell_type": "code",
      "metadata": {
        "id": "CrZYGUvp20HF",
        "colab_type": "code",
        "colab": {}
      },
      "source": [
        "all_year = []\n",
        "\n",
        "for project in list_project_name:\n",
        "    \n",
        "    dfx = df.loc[df['Project_Name'] == project]\n",
        "    \n",
        "    list_date = dfx.Date.dt.year.tolist()\n",
        "    \n",
        "    year = list_date[len(dfx)-1] - list_date[0]\n",
        "    \n",
        "    all_year.append(year)"
      ],
      "execution_count": 0,
      "outputs": []
    },
    {
      "cell_type": "code",
      "metadata": {
        "id": "F0sjrOS520Lr",
        "colab_type": "code",
        "colab": {}
      },
      "source": [
        "years = pd.Series(all_year)"
      ],
      "execution_count": 0,
      "outputs": []
    },
    {
      "cell_type": "code",
      "metadata": {
        "id": "VI-z0X5Q3TwZ",
        "colab_type": "code",
        "outputId": "90fe87e7-734c-4f59-c234-96aed3ce2b28",
        "colab": {
          "base_uri": "https://localhost:8080/"
        }
      },
      "source": [
        "years.describe()"
      ],
      "execution_count": 0,
      "outputs": [
        {
          "output_type": "execute_result",
          "data": {
            "text/plain": [
              "count    216.000000\n",
              "mean       6.509259\n",
              "std        4.034722\n",
              "min        0.000000\n",
              "25%        4.000000\n",
              "50%        6.000000\n",
              "75%        8.250000\n",
              "max       28.000000\n",
              "dtype: float64"
            ]
          },
          "metadata": {
            "tags": []
          },
          "execution_count": 20
        }
      ]
    },
    {
      "cell_type": "markdown",
      "metadata": {
        "id": "99VygxVo3gE2",
        "colab_type": "text"
      },
      "source": [
        "## Active and Non-Trivial"
      ]
    },
    {
      "cell_type": "code",
      "metadata": {
        "id": "GvFofVVJ3T-s",
        "colab_type": "code",
        "outputId": "ed9fbaba-eb39-467a-ea2b-de03be5ef0e8",
        "colab": {
          "base_uri": "https://localhost:8080/",
          "height": 54
        }
      },
      "source": [
        "print(f'Total de commits {len(df.Hash.unique())}')"
      ],
      "execution_count": 0,
      "outputs": [
        {
          "output_type": "stream",
          "text": [
            "Total de commits 843813\n"
          ],
          "name": "stdout"
        }
      ]
    },
    {
      "cell_type": "code",
      "metadata": {
        "id": "bHZEDXmn3T9F",
        "colab_type": "code",
        "outputId": "cee0956c-151b-4d28-adfb-064ed3e0ca6c",
        "colab": {
          "base_uri": "https://localhost:8080/",
          "height": 34
        }
      },
      "source": [
        "print(f'Quantidade de contribuidores {len(df.ContributorName.unique())}')"
      ],
      "execution_count": 0,
      "outputs": [
        {
          "output_type": "stream",
          "text": [
            "Quantidade de contribuidores 32195\n"
          ],
          "name": "stdout"
        }
      ]
    },
    {
      "cell_type": "markdown",
      "metadata": {
        "id": "hQlOxmes3oTC",
        "colab_type": "text"
      },
      "source": [
        "## Media dos commits nos projetos"
      ]
    },
    {
      "cell_type": "code",
      "metadata": {
        "id": "ASOYOkjJ3lvZ",
        "colab_type": "code",
        "colab": {}
      },
      "source": [
        "list_project_name = df.Project_Name.unique().tolist()"
      ],
      "execution_count": 0,
      "outputs": []
    },
    {
      "cell_type": "code",
      "metadata": {
        "id": "ENWPK6pO3l00",
        "colab_type": "code",
        "colab": {}
      },
      "source": [
        "all_commit = []\n",
        "\n",
        "for project in list_project_name:\n",
        "    \n",
        "    dfx = df.loc[df['Project_Name'] == project]\n",
        "    \n",
        "    all_commit.append(len(dfx.Hash.unique()))"
      ],
      "execution_count": 0,
      "outputs": []
    },
    {
      "cell_type": "code",
      "metadata": {
        "id": "r5T9nWD73l5e",
        "colab_type": "code",
        "colab": {}
      },
      "source": [
        "commit = pd.Series(all_commit)"
      ],
      "execution_count": 0,
      "outputs": []
    },
    {
      "cell_type": "code",
      "metadata": {
        "id": "nh16-S1M3T35",
        "colab_type": "code",
        "outputId": "f1e5739e-a0a5-4b2c-e2dc-7bebcdcc547c",
        "colab": {
          "base_uri": "https://localhost:8080/",
          "height": 190
        }
      },
      "source": [
        "commit.describe()"
      ],
      "execution_count": 0,
      "outputs": [
        {
          "output_type": "execute_result",
          "data": {
            "text/plain": [
              "count      216.000000\n",
              "mean      3906.541667\n",
              "std       7671.424317\n",
              "min          1.000000\n",
              "25%        319.500000\n",
              "50%        988.000000\n",
              "75%       3352.500000\n",
              "max      46579.000000\n",
              "dtype: float64"
            ]
          },
          "metadata": {
            "tags": []
          },
          "execution_count": 26
        }
      ]
    },
    {
      "cell_type": "markdown",
      "metadata": {
        "id": "SfIng6K2303A",
        "colab_type": "text"
      },
      "source": [
        "## Media de Contrinuidores por projeto"
      ]
    },
    {
      "cell_type": "code",
      "metadata": {
        "id": "zrxHnytI3wTG",
        "colab_type": "code",
        "colab": {}
      },
      "source": [
        "list_project_name = df.Project_Name.unique().tolist()"
      ],
      "execution_count": 0,
      "outputs": []
    },
    {
      "cell_type": "code",
      "metadata": {
        "id": "2YKMNHJh3wXL",
        "colab_type": "code",
        "colab": {}
      },
      "source": [
        "all_contributor = []\n",
        "\n",
        "for project in list_project_name:\n",
        "    \n",
        "    dfx = df.loc[df['Project_Name'] == project]\n",
        "    \n",
        "    all_contributor.append(len(dfx.ContributorName.unique()))"
      ],
      "execution_count": 0,
      "outputs": []
    },
    {
      "cell_type": "code",
      "metadata": {
        "id": "-fEt6Cm93wbJ",
        "colab_type": "code",
        "colab": {}
      },
      "source": [
        "contributor = pd.Series(all_contributor)"
      ],
      "execution_count": 0,
      "outputs": []
    },
    {
      "cell_type": "code",
      "metadata": {
        "id": "Tsp0_yzp2z5X",
        "colab_type": "code",
        "outputId": "a6ada57b-c0a2-4e77-81d0-837efa3419cb",
        "colab": {
          "base_uri": "https://localhost:8080/"
        }
      },
      "source": [
        "contributor.describe()"
      ],
      "execution_count": 0,
      "outputs": [
        {
          "output_type": "execute_result",
          "data": {
            "text/plain": [
              "count     216.000000\n",
              "mean      166.671296\n",
              "std       261.436423\n",
              "min         1.000000\n",
              "25%        23.000000\n",
              "50%        80.000000\n",
              "75%       160.000000\n",
              "max      1659.000000\n",
              "dtype: float64"
            ]
          },
          "metadata": {
            "tags": []
          },
          "execution_count": 30
        }
      ]
    }
  ]
}